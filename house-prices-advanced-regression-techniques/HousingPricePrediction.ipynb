{
 "cells": [
  {
   "cell_type": "code",
   "execution_count": 1,
   "metadata": {},
   "outputs": [],
   "source": [
    "import pandas as pd\n",
    "import palettable\n",
    "import jenkspy\n",
    "import seaborn as sns\n",
    "import matplotlib\n",
    "import pygeoj\n",
    "import arcgis\n",
    "from arcgis.features import SpatialDataFrame\n",
    "\n",
    "blues = palettable.colorbrewer.sequential.Blues_5.hex_colors\n",
    "greens = palettable.colorbrewer.sequential.Greens_5.hex_colors\n",
    "orgRed = palettable.colorbrewer.sequential.OrRd_5.hex_colors\n",
    "ylorbr = palettable.colorbrewer.sequential.YlOrBr_5.hex_colors\n",
    "purples = palettable.colorbrewer.sequential.Purples_5.hex_colors\n",
    "ylgnbu = palettable.colorbrewer.sequential.YlGnBu_5.hex_colors\n",
    "legend_map = {\"educationalattainment_bachdeg_cy\": ylgnbu,\n",
    "             'educationalattainment_graddeg_cy': ylgnbu,\n",
    "             'High_School':ylgnbu\n",
    "             \n",
    "             }"
   ]
  },
  {
   "cell_type": "code",
   "execution_count": 30,
   "metadata": {},
   "outputs": [
    {
     "data": {
      "text/html": [
       "<div>\n",
       "<style scoped>\n",
       "    .dataframe tbody tr th:only-of-type {\n",
       "        vertical-align: middle;\n",
       "    }\n",
       "\n",
       "    .dataframe tbody tr th {\n",
       "        vertical-align: top;\n",
       "    }\n",
       "\n",
       "    .dataframe thead th {\n",
       "        text-align: right;\n",
       "    }\n",
       "</style>\n",
       "<table border=\"1\" class=\"dataframe\">\n",
       "  <thead>\n",
       "    <tr style=\"text-align: right;\">\n",
       "      <th></th>\n",
       "      <th>account</th>\n",
       "      <th>Total</th>\n",
       "    </tr>\n",
       "  </thead>\n",
       "  <tbody>\n",
       "    <tr>\n",
       "      <td>3</td>\n",
       "      <td>Super Star Inc</td>\n",
       "      <td>20</td>\n",
       "    </tr>\n",
       "    <tr>\n",
       "      <td>2</td>\n",
       "      <td>Blue Inc</td>\n",
       "      <td>50</td>\n",
       "    </tr>\n",
       "    <tr>\n",
       "      <td>4</td>\n",
       "      <td>Wamo</td>\n",
       "      <td>75</td>\n",
       "    </tr>\n",
       "    <tr>\n",
       "      <td>6</td>\n",
       "      <td>Giga Co</td>\n",
       "      <td>950</td>\n",
       "    </tr>\n",
       "    <tr>\n",
       "      <td>5</td>\n",
       "      <td>Next Gen</td>\n",
       "      <td>1100</td>\n",
       "    </tr>\n",
       "    <tr>\n",
       "      <td>7</td>\n",
       "      <td>IniTech</td>\n",
       "      <td>1300</td>\n",
       "    </tr>\n",
       "    <tr>\n",
       "      <td>8</td>\n",
       "      <td>Beta LLC</td>\n",
       "      <td>1400</td>\n",
       "    </tr>\n",
       "    <tr>\n",
       "      <td>0</td>\n",
       "      <td>Jones Inc</td>\n",
       "      <td>1500</td>\n",
       "    </tr>\n",
       "    <tr>\n",
       "      <td>1</td>\n",
       "      <td>Alpha Co</td>\n",
       "      <td>2100</td>\n",
       "    </tr>\n",
       "  </tbody>\n",
       "</table>\n",
       "</div>"
      ],
      "text/plain": [
       "          account  Total\n",
       "3  Super Star Inc     20\n",
       "2        Blue Inc     50\n",
       "4            Wamo     75\n",
       "6         Giga Co    950\n",
       "5        Next Gen   1100\n",
       "7         IniTech   1300\n",
       "8        Beta LLC   1400\n",
       "0       Jones Inc   1500\n",
       "1        Alpha Co   2100"
      ]
     },
     "execution_count": 30,
     "metadata": {},
     "output_type": "execute_result"
    }
   ],
   "source": [
    "import pandas as pd\n",
    "import jenkspy\n",
    "\n",
    "sales = {\n",
    "    'account': [\n",
    "        'Jones Inc', 'Alpha Co', 'Blue Inc', 'Super Star Inc', 'Wamo',\n",
    "        'Next Gen', 'Giga Co', 'IniTech', 'Beta LLC'\n",
    "    ],\n",
    "    'Total': [1500, 2100, 50, 20, 75, 1100, 950, 1300, 1400]\n",
    "}\n",
    "df = pd.DataFrame(sales)\n",
    "df.sort_values(by='Total')"
   ]
  },
  {
   "cell_type": "code",
   "execution_count": 153,
   "metadata": {},
   "outputs": [
    {
     "data": {
      "text/plain": [
       "[20.0, 75.0, 1100.0, 1300.0, 1500.0, 2100.0]"
      ]
     },
     "execution_count": 153,
     "metadata": {},
     "output_type": "execute_result"
    }
   ],
   "source": [
    "breaks = jenkspy.jenks_breaks([20.0, 75.0, 1100.0, 1300.0, 1500.0, 2100.0], nb_class=5)\n",
    "breaks"
   ]
  },
  {
   "cell_type": "code",
   "execution_count": 88,
   "metadata": {},
   "outputs": [],
   "source": [
    "from palettable import cartocolors "
   ]
  },
  {
   "cell_type": "code",
   "execution_count": 90,
   "metadata": {},
   "outputs": [
    {
     "data": {
      "text/plain": [
       "<property at 0x295b7142638>"
      ]
     },
     "execution_count": 90,
     "metadata": {},
     "output_type": "execute_result"
    }
   ],
   "source": [
    "cartocolors.cartocolorspalette.CartoColorsMap.hex_colors"
   ]
  },
  {
   "cell_type": "code",
   "execution_count": 93,
   "metadata": {},
   "outputs": [],
   "source": [
    "import palettable.colorbrewer.sequential"
   ]
  },
  {
   "cell_type": "code",
   "execution_count": 99,
   "metadata": {},
   "outputs": [
    {
     "data": {
      "text/plain": [
       "['#F7FBFF',\n",
       " '#DEEBF7',\n",
       " '#C6DBEF',\n",
       " '#9ECAE1',\n",
       " '#6BAED6',\n",
       " '#4292C6',\n",
       " '#2171B5',\n",
       " '#084594']"
      ]
     },
     "execution_count": 99,
     "metadata": {},
     "output_type": "execute_result"
    }
   ],
   "source": [
    "palettable.colorbrewer.sequential.Blues_8.hex_colors"
   ]
  },
  {
   "cell_type": "code",
   "execution_count": 313,
   "metadata": {},
   "outputs": [
    {
     "ename": "TypeError",
     "evalue": "'Feature' object is not iterable",
     "output_type": "error",
     "traceback": [
      "\u001b[1;31m---------------------------------------------------------------------------\u001b[0m",
      "\u001b[1;31mTypeError\u001b[0m                                 Traceback (most recent call last)",
      "\u001b[1;32m<ipython-input-313-84ecf74a8d36>\u001b[0m in \u001b[0;36m<module>\u001b[1;34m\u001b[0m\n\u001b[0;32m      4\u001b[0m \u001b[1;32mfor\u001b[0m \u001b[0mfeature\u001b[0m \u001b[1;32min\u001b[0m \u001b[0mtestfile\u001b[0m\u001b[1;33m:\u001b[0m\u001b[1;33m\u001b[0m\u001b[1;33m\u001b[0m\u001b[0m\n\u001b[0;32m      5\u001b[0m     \u001b[1;32mif\u001b[0m \u001b[0mi\u001b[0m \u001b[1;33m==\u001b[0m\u001b[1;36m1\u001b[0m\u001b[1;33m:\u001b[0m\u001b[1;33m\u001b[0m\u001b[1;33m\u001b[0m\u001b[0m\n\u001b[1;32m----> 6\u001b[1;33m         \u001b[0mprint\u001b[0m\u001b[1;33m(\u001b[0m\u001b[0mdict\u001b[0m\u001b[1;33m(\u001b[0m\u001b[0mfeature\u001b[0m\u001b[1;33m)\u001b[0m\u001b[1;33m)\u001b[0m\u001b[1;33m\u001b[0m\u001b[1;33m\u001b[0m\u001b[0m\n\u001b[0m\u001b[0;32m      7\u001b[0m     \u001b[1;32melse\u001b[0m\u001b[1;33m:\u001b[0m\u001b[1;33m\u001b[0m\u001b[1;33m\u001b[0m\u001b[0m\n\u001b[0;32m      8\u001b[0m         \u001b[1;32mpass\u001b[0m\u001b[1;33m\u001b[0m\u001b[1;33m\u001b[0m\u001b[0m\n",
      "\u001b[1;31mTypeError\u001b[0m: 'Feature' object is not iterable"
     ]
    }
   ],
   "source": [
    "import pygeoj\n",
    "testfile = pygeoj.load(r\"C:\\Users\\Julian Adams\\Dropbox (Avison Young)\\Innovation Projects\\Products\\Mapping and Visualization\\Submarket Mapping\\Scripts\\Submarket_Tag\\Census_Block_Enrich_Features.geojson\")\n",
    "i= 0\n",
    "for feature in testfile:\n",
    "    if i ==1:\n",
    "        print(feature))\n",
    "    else:\n",
    "        pass\n",
    "    i+=1\n",
    "    "
   ]
  },
  {
   "cell_type": "code",
   "execution_count": 2,
   "metadata": {},
   "outputs": [],
   "source": [
    "import pandas as pd\n",
    "import palettable\n",
    "import jenkspy\n",
    "import seaborn as sns\n",
    "import matplotlib\n",
    "import pygeoj\n",
    "import arcgis\n",
    "from arcgis.features import SpatialDataFrame\n",
    "\n",
    "blues = palettable.colorbrewer.sequential.Blues_5.hex_colors\n",
    "greens = palettable.colorbrewer.sequential.Greens_5.hex_colors\n",
    "orgRed = palettable.colorbrewer.sequential.OrRd_5.hex_colors\n",
    "ylorbr = palettable.colorbrewer.sequential.YlOrBr_5.hex_colors\n",
    "purples = palettable.colorbrewer.sequential.Purples_5.hex_colors\n",
    "ylgnbu = palettable.colorbrewer.sequential.YlGnBu_5.hex_colors\n",
    "magenta = palettable.cartocolors.sequential.Magenta_5.hex_colors\n",
    "oryel = palettable.cartocolors.sequential.OrYel_5.hex_colors\n",
    "brwYl = palettable.cartocolors.sequential.BrwnYl_6.hex_colors\n",
    "teal = palettable.cartocolors.sequential.Teal_5.hex_colors\n",
    "purpleor = palettable.cartocolors.sequential.PurpOr_5.hex_colors\n",
    "peach = palettable.cartocolors.sequential.Peach_5.hex_colors\n",
    "\n",
    "geojson = []\n",
    "def build_classes(payload):\n",
    "    \n",
    "    geoj = pygeoj.load(payload)   \n",
    "    \n",
    "    d = {'populationtotals_totpop_cy':[\"Population\",\"2019 Total Population\",[],ylgnbu],\n",
    "         'populationtotals_popgrwcyfy':[\"Population\",\"2019-2024 Population Growth (% growth/yr)\",[],oryel],         \n",
    "         'populationtotals_popdens_cy': [\"Population\",\"Population Density (per sq mile)\",[],peach],\n",
    "\n",
    "         'householdincome_medhinc_cy': [\"Income\",\"Median HH Income\",[],greens],\n",
    "         'householdincome_pci_cy': [\"Income\",'Per Capita Income',[],greens],\n",
    "\n",
    "         'Percent_HS': [\"Education\",'% Population with HS Diploma',[],ylgnbu],\n",
    "         'Percent_GradProf': [\"Education\",'% Population with Grad/Prof. Degree',[],purpleor],\n",
    "         'Percent_Bach': [\"Education\",'% Population with Bachelors Degree',[],blues],\n",
    "         \n",
    "         'Healthcare': [\"Jobs\",'Occupation: Healthcare',[],magenta],\n",
    "         'Blue_Collar': [\"Jobs\",'Occupation: Blue Collar',[],blues],\n",
    "         'White_Collar': [\"Jobs\",'Occupation: White Collar',[],ylgnbu],\n",
    "\n",
    "         'occupation_occlegl_cy': [\"Jobs\",'Occupation: Legal',[],brwYl],\n",
    "         'occupation_occssci_cy': [\"Jobs\",'Occupation: Life Sciences',[],purples],\n",
    "         'occupation_occcomp_cy': [\"Jobs\",'Occupation: Technology',[],teal],\n",
    "         'Percent_Mil': [\"Age\",\"% of Pop: Millennial Generation\",[],orgRed],\n",
    "         'Percent_GenX': [\"Age\",\"% of Pop: Generation X\",[],orgRed],\n",
    "         'Percent_BB': [\"Age\",\"% of Pop: Baby Boomer Generation\",[],orgRed]\n",
    "\n",
    "        }     \n",
    "\n",
    "    for feat in geoj:\n",
    "        geojson.append(feat)\n",
    "        for i in feat.properties:\n",
    "            if i in d.keys():\n",
    "                d[i][2].append(feat.properties[i])\n",
    "    for key in d.keys():\n",
    "        try:\n",
    "            natbreaks = jenkspy.jenks_breaks([i for i in d[key][2] if isinstance(i, float) or isinstance(i, int)], nb_class=5)\n",
    "            d[key].append(natbreaks)\n",
    "        except:\n",
    "            print(key)\n",
    "    return(d)\n",
    "\n",
    "def build_json(class_build):\n",
    "    featureProperties = []\n",
    "    for key in class_build.keys():\n",
    "        cl_list = []\n",
    "        leg = []\n",
    "        \n",
    "        if class_build[key][0] == \"Population\":\n",
    "            if class_build[key][1] == \"2019-2024 Population Growth (% growth/yr)\":\n",
    "                cl_list = [float(i) for i in class_build[key][4]]\n",
    "                for i,j in enumerate(cl_list):                \n",
    "                    if j != cl_list[-1]:\n",
    "                        leg.append(\"{} - {}\".format('{0:.2f}'.format(j),'{0:.2f}'.format(cl_list[i+1])) if i== 0 else \"{} - {}\".format('{0:.2f}'.format(j+0.01),'{0:.2f}'.format(cl_list[i+1])))\n",
    "            elif class_build[key][1] != \"2019-2024 Population Growth\":    \n",
    "                cl_list = [int(i) for i in class_build[key][4]]\n",
    "                for i,j in enumerate(cl_list):                \n",
    "                    if j != cl_list[-1]:\n",
    "                        leg.append(\"{} - {}\".format(0,f\"{cl_list[i+1]:,d}\") if i== 0 else \"{} - {}\".format(f\"{j+1:,d}\",f\"{cl_list[i+1]:,d}\"))\n",
    "            \n",
    "            \n",
    "        elif class_build[key][0] == \"Income\":\n",
    "            cl_list = [int(i) for i in class_build[key][4]]\n",
    "            for i,j in enumerate(cl_list):                \n",
    "                if j != cl_list[-1]:\n",
    "                    leg.append(\"${} - ${}\".format(0,f\"{cl_list[i+1]:,d}\") if i== 0 else \"${} - ${}\".format(f\"{j+1:,d}\",f\"{cl_list[i+1]:,d}\"))\n",
    "\n",
    "        elif class_build[key][0] == \"Education\" or class_build[key][0] == \"Age\":\n",
    "            cl_list = [int(i) for i in class_build[key][4]]\n",
    "            for i,j in enumerate(cl_list):                \n",
    "                if j != cl_list[-1]:\n",
    "                    leg.append(\"{}% - {}%\".format(0,f\"{cl_list[i+1]:,d}\") if i== 0 else \"{}% - {}%\".format(f\"{j+1:,d}\",f\"{cl_list[i+1]:,d}\"))\n",
    "            \n",
    "        elif class_build[key][0] == \"Jobs\":\n",
    "            cl_list = [int(i) for i in class_build[key][4]]\n",
    "            for i,j in enumerate(cl_list):                \n",
    "                if j != cl_list[-1]:\n",
    "                    leg.append(\"{} - {}\".format(0,f\"{cl_list[i+1]:,d}\") if i== 0 else \"{} - {}\".format(f\"{j+1:,d}\",f\"{cl_list[i+1]:,d}\"))\n",
    "        else:\n",
    "            cl_list = class_build[key][2]\n",
    "            \n",
    "        featureProperties.append( {\n",
    "                \"propKey\": key,\n",
    "                \"display\": class_build[key][1],\n",
    "                \"layerGroupName\": class_build[key][0],\n",
    "                \"colors\": [\n",
    "                    {\n",
    "                        \"value\": cl_list[0],\n",
    "                        \"color\": class_build[key][3][0],\n",
    "                        \"description\": leg[0]\n",
    "                    },\n",
    "                    {\n",
    "                        \"value\": cl_list[1],\n",
    "                        \"color\": class_build[key][3][1],\n",
    "                        \"description\": leg[1]\n",
    "                    },\n",
    "                    {\n",
    "                        \"value\": cl_list[2],\n",
    "                        \"color\": class_build[key][3][2],\n",
    "                        \"description\": leg[2]\n",
    "                    },\n",
    "                    {\n",
    "                        \"value\": cl_list[3],\n",
    "                        \"color\": class_build[key][3][3],\n",
    "                        \"description\":leg[3]\n",
    "                    },\n",
    "                    {\n",
    "                        \"value\": cl_list[4],\n",
    "                        \"color\": class_build[key][3][4],\n",
    "                        \"description\": leg[4]\n",
    "                    }\n",
    "                ]\n",
    "            })\n",
    "    return(featureProperties)\n",
    "        \n",
    "    \n",
    "        \n",
    "    return(d)\n",
    "file = r\"C:\\Users\\Julian Adams\\Dropbox (Avison Young)\\Innovation Projects\\Products\\Mapping and Visualization\\Submarket Mapping\\Scripts\\Submarket_Tag\\Census_Block_Enrich_Features.geojson\"\n",
    "l =build_json(build_classes(file))"
   ]
  },
  {
   "cell_type": "code",
   "execution_count": 389,
   "metadata": {},
   "outputs": [],
   "source": [
    "with open(r'C:\\Users\\Julian Adams\\Dropbox (Avison Young)\\Innovation Projects\\Products\\Mapping and Visualization\\Submarket Mapping\\IK\\Prelim_Files\\geojsons\\Washington, DC_LegendVal.json', 'w') as outfile:\n",
    "    json.dump(l, outfile)"
   ]
  },
  {
   "cell_type": "code",
   "execution_count": 381,
   "metadata": {},
   "outputs": [],
   "source": [
    "l =build_classes(file)"
   ]
  },
  {
   "cell_type": "code",
   "execution_count": 382,
   "metadata": {},
   "outputs": [
    {
     "data": {
      "text/plain": [
       "{'populationtotals_totpop_cy': ['Population',\n",
       "  '2019 Total Population',\n",
       "  [1019, 712, 3299, 1235, 881, 1131, 1909],\n",
       "  ['#FFFFCC', '#A1DAB4', '#41B6C4', '#2C7FB8', '#253494'],\n",
       "  [712.0, 881.0, 1019.0, 1235.0, 1909.0, 3299.0]],\n",
       " 'populationtotals_popgrwcyfy': ['Population',\n",
       "  '2019-2024 Population Growth (% growth/yr)',\n",
       "  [-0.12, 0.22, 1.48, 2.07, -0.07, 0.87, 2.33],\n",
       "  ['#ECDA9A', '#F3AD6A', '#F7945D', '#F97B57', '#EE4D5A'],\n",
       "  [-0.12, -0.07, 0.22, 0.87, 1.48, 2.33]],\n",
       " 'populationtotals_popdens_cy': ['Population',\n",
       "  'Population Density (per sq mile)',\n",
       "  [24733, 9128.2, 30546.3, 12891.4, 7734.9, 11781.2, 15284.2],\n",
       "  ['#FDE0C5', '#F8B58B', '#F59E72', '#F2855D', '#EB4A40'],\n",
       "  [7734.9, 9128.2, 12891.4, 15284.2, 24733.0, 30546.3]],\n",
       " 'householdincome_medhinc_cy': ['Income',\n",
       "  'Median HH Income',\n",
       "  [129463, 182524, 167482, 152189, 200001, 150000, 200001],\n",
       "  ['#EDF8E9', '#BAE4B3', '#74C476', '#31A354', '#006D2C'],\n",
       "  [129463.0, 150000.0, 152189.0, 167482.0, 182524.0, 200001.0]],\n",
       " 'householdincome_pci_cy': ['Income',\n",
       "  'Per Capita Income',\n",
       "  [104108, 96433, 139564, 103454, 112891, 97680, 121229],\n",
       "  ['#EDF8E9', '#BAE4B3', '#74C476', '#31A354', '#006D2C'],\n",
       "  [96433.0, 97680.0, 104108.0, 112891.0, 121229.0, 139564.0]],\n",
       " 'Percent_HS': ['Education',\n",
       "  '% Population with HS Diploma',\n",
       "  [8.145240431795878,\n",
       "   5.758426966292135,\n",
       "   2.940284934828736,\n",
       "   7.125506072874494,\n",
       "   3.40522133938706,\n",
       "   4.420866489832007,\n",
       "   4.714510214772132],\n",
       "  ['#FFFFCC', '#A1DAB4', '#41B6C4', '#2C7FB8', '#253494'],\n",
       "  [2.940284934828736,\n",
       "   3.40522133938706,\n",
       "   4.714510214772132,\n",
       "   5.758426966292135,\n",
       "   7.125506072874494,\n",
       "   8.145240431795878]],\n",
       " 'Percent_GradProf': ['Education',\n",
       "  '% Population with Grad/Prof.Degree',\n",
       "  [36.113837095191364,\n",
       "   47.331460674157306,\n",
       "   43.8920885116702,\n",
       "   39.75708502024292,\n",
       "   50.851305334846764,\n",
       "   44.827586206896555,\n",
       "   42.01152435830278],\n",
       "  ['#F9DDDA', '#E597B9', '#CE78B3', '#AD5FAD', '#573B88'],\n",
       "  [36.113837095191364,\n",
       "   39.75708502024292,\n",
       "   42.01152435830278,\n",
       "   44.827586206896555,\n",
       "   47.331460674157306,\n",
       "   50.851305334846764]],\n",
       " 'Percent_Bach': ['Education',\n",
       "  '% Population with Bachelors Degree',\n",
       "  [40.72620215897939,\n",
       "   24.43820224719101,\n",
       "   40.04243710215217,\n",
       "   25.182186234817816,\n",
       "   20.6583427922815,\n",
       "   24.40318302387268,\n",
       "   31.953902566788894],\n",
       "  ['#EFF3FF', '#BDD7E7', '#6BAED6', '#3182BD', '#08519C'],\n",
       "  [20.6583427922815,\n",
       "   24.40318302387268,\n",
       "   24.43820224719101,\n",
       "   25.182186234817816,\n",
       "   31.953902566788894,\n",
       "   40.72620215897939]],\n",
       " 'Healthcare': ['Jobs',\n",
       "  'Occupation: Healthcare',\n",
       "  [24, 13, 196, 3, 24, 23, 25],\n",
       "  ['#F3CBD3', '#DD88AC', '#CA699D', '#B14D8E', '#6C2167'],\n",
       "  [3.0, 13.0, 23.0, 24.0, 25.0, 196.0]],\n",
       " 'Blue_Collar': ['Jobs',\n",
       "  'Occupation: Blue Collar',\n",
       "  [57, 2, 25, 15, 1, 48, 4],\n",
       "  ['#EFF3FF', '#BDD7E7', '#6BAED6', '#3182BD', '#08519C'],\n",
       "  [1.0, 4.0, 15.0, 25.0, 48.0, 57.0]],\n",
       " 'White_Collar': ['Jobs',\n",
       "  'Occupation: White Collar',\n",
       "  [449, 329, 1602, 479, 211, 538, 714],\n",
       "  ['#FFFFCC', '#A1DAB4', '#41B6C4', '#2C7FB8', '#253494'],\n",
       "  [211.0, 329.0, 479.0, 538.0, 714.0, 1602.0]],\n",
       " 'occupation_occlegl_cy': ['Jobs',\n",
       "  'Occupation: Legal',\n",
       "  [103, 3, 381, 83, 106, 112, 182],\n",
       "  ['#EDE5CF', '#E0C2A2', '#D39C83', '#A65461', '#813753', '#541F3F'],\n",
       "  [3.0, 83.0, 106.0, 112.0, 182.0, 381.0]],\n",
       " 'occupation_occssci_cy': ['Jobs',\n",
       "  'Occupation: Life Sciences',\n",
       "  [0, 17, 77, 35, 45, 26, 31],\n",
       "  ['#F2F0F7', '#CBC9E2', '#9E9AC8', '#756BB1', '#54278F'],\n",
       "  [0.0, 17.0, 26.0, 35.0, 45.0, 77.0]],\n",
       " 'occupation_occcomp_cy': ['Jobs',\n",
       "  'Occupation: Technology',\n",
       "  [96, 78, 236, 162, 20, 62, 76],\n",
       "  ['#D1EEEA', '#85C4C9', '#68ABB8', '#4F90A6', '#2A5674'],\n",
       "  [20.0, 62.0, 78.0, 96.0, 162.0, 236.0]]}"
      ]
     },
     "execution_count": 382,
     "metadata": {},
     "output_type": "execute_result"
    }
   ],
   "source": [
    "l"
   ]
  },
  {
   "cell_type": "code",
   "execution_count": 319,
   "metadata": {},
   "outputs": [],
   "source": [
    "import json\n",
    "\n",
    "data = {'metadata' : {\n",
    "    \"title\": \"Demographics\",\n",
    "     \"featureProperties\": l\n",
    "    \n",
    "}}\n",
    "\n",
    "json_data = json.dumps(data)"
   ]
  },
  {
   "cell_type": "code",
   "execution_count": 330,
   "metadata": {},
   "outputs": [
    {
     "ename": "JSONDecodeError",
     "evalue": "Expecting value: line 1 column 1 (char 0)",
     "output_type": "error",
     "traceback": [
      "\u001b[1;31m---------------------------------------------------------------------------\u001b[0m",
      "\u001b[1;31mJSONDecodeError\u001b[0m                           Traceback (most recent call last)",
      "\u001b[1;32m<ipython-input-330-70b62a872c88>\u001b[0m in \u001b[0;36m<module>\u001b[1;34m\u001b[0m\n\u001b[1;32m----> 1\u001b[1;33m \u001b[0mjson\u001b[0m\u001b[1;33m.\u001b[0m\u001b[0mloads\u001b[0m\u001b[1;33m(\u001b[0m\u001b[0mfile\u001b[0m\u001b[1;33m)\u001b[0m\u001b[1;33m\u001b[0m\u001b[1;33m\u001b[0m\u001b[0m\n\u001b[0m",
      "\u001b[1;32m~\\Anaconda3\\lib\\json\\__init__.py\u001b[0m in \u001b[0;36mloads\u001b[1;34m(s, encoding, cls, object_hook, parse_float, parse_int, parse_constant, object_pairs_hook, **kw)\u001b[0m\n\u001b[0;32m    346\u001b[0m             \u001b[0mparse_int\u001b[0m \u001b[1;32mis\u001b[0m \u001b[1;32mNone\u001b[0m \u001b[1;32mand\u001b[0m \u001b[0mparse_float\u001b[0m \u001b[1;32mis\u001b[0m \u001b[1;32mNone\u001b[0m \u001b[1;32mand\u001b[0m\u001b[1;33m\u001b[0m\u001b[1;33m\u001b[0m\u001b[0m\n\u001b[0;32m    347\u001b[0m             parse_constant is None and object_pairs_hook is None and not kw):\n\u001b[1;32m--> 348\u001b[1;33m         \u001b[1;32mreturn\u001b[0m \u001b[0m_default_decoder\u001b[0m\u001b[1;33m.\u001b[0m\u001b[0mdecode\u001b[0m\u001b[1;33m(\u001b[0m\u001b[0ms\u001b[0m\u001b[1;33m)\u001b[0m\u001b[1;33m\u001b[0m\u001b[1;33m\u001b[0m\u001b[0m\n\u001b[0m\u001b[0;32m    349\u001b[0m     \u001b[1;32mif\u001b[0m \u001b[0mcls\u001b[0m \u001b[1;32mis\u001b[0m \u001b[1;32mNone\u001b[0m\u001b[1;33m:\u001b[0m\u001b[1;33m\u001b[0m\u001b[1;33m\u001b[0m\u001b[0m\n\u001b[0;32m    350\u001b[0m         \u001b[0mcls\u001b[0m \u001b[1;33m=\u001b[0m \u001b[0mJSONDecoder\u001b[0m\u001b[1;33m\u001b[0m\u001b[1;33m\u001b[0m\u001b[0m\n",
      "\u001b[1;32m~\\Anaconda3\\lib\\json\\decoder.py\u001b[0m in \u001b[0;36mdecode\u001b[1;34m(self, s, _w)\u001b[0m\n\u001b[0;32m    335\u001b[0m \u001b[1;33m\u001b[0m\u001b[0m\n\u001b[0;32m    336\u001b[0m         \"\"\"\n\u001b[1;32m--> 337\u001b[1;33m         \u001b[0mobj\u001b[0m\u001b[1;33m,\u001b[0m \u001b[0mend\u001b[0m \u001b[1;33m=\u001b[0m \u001b[0mself\u001b[0m\u001b[1;33m.\u001b[0m\u001b[0mraw_decode\u001b[0m\u001b[1;33m(\u001b[0m\u001b[0ms\u001b[0m\u001b[1;33m,\u001b[0m \u001b[0midx\u001b[0m\u001b[1;33m=\u001b[0m\u001b[0m_w\u001b[0m\u001b[1;33m(\u001b[0m\u001b[0ms\u001b[0m\u001b[1;33m,\u001b[0m \u001b[1;36m0\u001b[0m\u001b[1;33m)\u001b[0m\u001b[1;33m.\u001b[0m\u001b[0mend\u001b[0m\u001b[1;33m(\u001b[0m\u001b[1;33m)\u001b[0m\u001b[1;33m)\u001b[0m\u001b[1;33m\u001b[0m\u001b[1;33m\u001b[0m\u001b[0m\n\u001b[0m\u001b[0;32m    338\u001b[0m         \u001b[0mend\u001b[0m \u001b[1;33m=\u001b[0m \u001b[0m_w\u001b[0m\u001b[1;33m(\u001b[0m\u001b[0ms\u001b[0m\u001b[1;33m,\u001b[0m \u001b[0mend\u001b[0m\u001b[1;33m)\u001b[0m\u001b[1;33m.\u001b[0m\u001b[0mend\u001b[0m\u001b[1;33m(\u001b[0m\u001b[1;33m)\u001b[0m\u001b[1;33m\u001b[0m\u001b[1;33m\u001b[0m\u001b[0m\n\u001b[0;32m    339\u001b[0m         \u001b[1;32mif\u001b[0m \u001b[0mend\u001b[0m \u001b[1;33m!=\u001b[0m \u001b[0mlen\u001b[0m\u001b[1;33m(\u001b[0m\u001b[0ms\u001b[0m\u001b[1;33m)\u001b[0m\u001b[1;33m:\u001b[0m\u001b[1;33m\u001b[0m\u001b[1;33m\u001b[0m\u001b[0m\n",
      "\u001b[1;32m~\\Anaconda3\\lib\\json\\decoder.py\u001b[0m in \u001b[0;36mraw_decode\u001b[1;34m(self, s, idx)\u001b[0m\n\u001b[0;32m    353\u001b[0m             \u001b[0mobj\u001b[0m\u001b[1;33m,\u001b[0m \u001b[0mend\u001b[0m \u001b[1;33m=\u001b[0m \u001b[0mself\u001b[0m\u001b[1;33m.\u001b[0m\u001b[0mscan_once\u001b[0m\u001b[1;33m(\u001b[0m\u001b[0ms\u001b[0m\u001b[1;33m,\u001b[0m \u001b[0midx\u001b[0m\u001b[1;33m)\u001b[0m\u001b[1;33m\u001b[0m\u001b[1;33m\u001b[0m\u001b[0m\n\u001b[0;32m    354\u001b[0m         \u001b[1;32mexcept\u001b[0m \u001b[0mStopIteration\u001b[0m \u001b[1;32mas\u001b[0m \u001b[0merr\u001b[0m\u001b[1;33m:\u001b[0m\u001b[1;33m\u001b[0m\u001b[1;33m\u001b[0m\u001b[0m\n\u001b[1;32m--> 355\u001b[1;33m             \u001b[1;32mraise\u001b[0m \u001b[0mJSONDecodeError\u001b[0m\u001b[1;33m(\u001b[0m\u001b[1;34m\"Expecting value\"\u001b[0m\u001b[1;33m,\u001b[0m \u001b[0ms\u001b[0m\u001b[1;33m,\u001b[0m \u001b[0merr\u001b[0m\u001b[1;33m.\u001b[0m\u001b[0mvalue\u001b[0m\u001b[1;33m)\u001b[0m \u001b[1;32mfrom\u001b[0m \u001b[1;32mNone\u001b[0m\u001b[1;33m\u001b[0m\u001b[1;33m\u001b[0m\u001b[0m\n\u001b[0m\u001b[0;32m    356\u001b[0m         \u001b[1;32mreturn\u001b[0m \u001b[0mobj\u001b[0m\u001b[1;33m,\u001b[0m \u001b[0mend\u001b[0m\u001b[1;33m\u001b[0m\u001b[1;33m\u001b[0m\u001b[0m\n",
      "\u001b[1;31mJSONDecodeError\u001b[0m: Expecting value: line 1 column 1 (char 0)"
     ]
    }
   ],
   "source": [
    "json.loads(file)"
   ]
  },
  {
   "cell_type": "code",
   "execution_count": 303,
   "metadata": {},
   "outputs": [
    {
     "ename": "JSONDecodeError",
     "evalue": "Expecting value: line 1 column 1 (char 0)",
     "output_type": "error",
     "traceback": [
      "\u001b[1;31m---------------------------------------------------------------------------\u001b[0m",
      "\u001b[1;31mJSONDecodeError\u001b[0m                           Traceback (most recent call last)",
      "\u001b[1;32m<ipython-input-303-e92109ea5d28>\u001b[0m in \u001b[0;36m<module>\u001b[1;34m\u001b[0m\n\u001b[1;32m----> 1\u001b[1;33m \u001b[0mperson_dict\u001b[0m \u001b[1;33m=\u001b[0m \u001b[0mjson\u001b[0m\u001b[1;33m.\u001b[0m\u001b[0mloads\u001b[0m\u001b[1;33m(\u001b[0m\u001b[0mfile\u001b[0m\u001b[1;33m)\u001b[0m\u001b[1;33m\u001b[0m\u001b[1;33m\u001b[0m\u001b[0m\n\u001b[0m",
      "\u001b[1;32m~\\Anaconda3\\lib\\json\\__init__.py\u001b[0m in \u001b[0;36mloads\u001b[1;34m(s, encoding, cls, object_hook, parse_float, parse_int, parse_constant, object_pairs_hook, **kw)\u001b[0m\n\u001b[0;32m    346\u001b[0m             \u001b[0mparse_int\u001b[0m \u001b[1;32mis\u001b[0m \u001b[1;32mNone\u001b[0m \u001b[1;32mand\u001b[0m \u001b[0mparse_float\u001b[0m \u001b[1;32mis\u001b[0m \u001b[1;32mNone\u001b[0m \u001b[1;32mand\u001b[0m\u001b[1;33m\u001b[0m\u001b[1;33m\u001b[0m\u001b[0m\n\u001b[0;32m    347\u001b[0m             parse_constant is None and object_pairs_hook is None and not kw):\n\u001b[1;32m--> 348\u001b[1;33m         \u001b[1;32mreturn\u001b[0m \u001b[0m_default_decoder\u001b[0m\u001b[1;33m.\u001b[0m\u001b[0mdecode\u001b[0m\u001b[1;33m(\u001b[0m\u001b[0ms\u001b[0m\u001b[1;33m)\u001b[0m\u001b[1;33m\u001b[0m\u001b[1;33m\u001b[0m\u001b[0m\n\u001b[0m\u001b[0;32m    349\u001b[0m     \u001b[1;32mif\u001b[0m \u001b[0mcls\u001b[0m \u001b[1;32mis\u001b[0m \u001b[1;32mNone\u001b[0m\u001b[1;33m:\u001b[0m\u001b[1;33m\u001b[0m\u001b[1;33m\u001b[0m\u001b[0m\n\u001b[0;32m    350\u001b[0m         \u001b[0mcls\u001b[0m \u001b[1;33m=\u001b[0m \u001b[0mJSONDecoder\u001b[0m\u001b[1;33m\u001b[0m\u001b[1;33m\u001b[0m\u001b[0m\n",
      "\u001b[1;32m~\\Anaconda3\\lib\\json\\decoder.py\u001b[0m in \u001b[0;36mdecode\u001b[1;34m(self, s, _w)\u001b[0m\n\u001b[0;32m    335\u001b[0m \u001b[1;33m\u001b[0m\u001b[0m\n\u001b[0;32m    336\u001b[0m         \"\"\"\n\u001b[1;32m--> 337\u001b[1;33m         \u001b[0mobj\u001b[0m\u001b[1;33m,\u001b[0m \u001b[0mend\u001b[0m \u001b[1;33m=\u001b[0m \u001b[0mself\u001b[0m\u001b[1;33m.\u001b[0m\u001b[0mraw_decode\u001b[0m\u001b[1;33m(\u001b[0m\u001b[0ms\u001b[0m\u001b[1;33m,\u001b[0m \u001b[0midx\u001b[0m\u001b[1;33m=\u001b[0m\u001b[0m_w\u001b[0m\u001b[1;33m(\u001b[0m\u001b[0ms\u001b[0m\u001b[1;33m,\u001b[0m \u001b[1;36m0\u001b[0m\u001b[1;33m)\u001b[0m\u001b[1;33m.\u001b[0m\u001b[0mend\u001b[0m\u001b[1;33m(\u001b[0m\u001b[1;33m)\u001b[0m\u001b[1;33m)\u001b[0m\u001b[1;33m\u001b[0m\u001b[1;33m\u001b[0m\u001b[0m\n\u001b[0m\u001b[0;32m    338\u001b[0m         \u001b[0mend\u001b[0m \u001b[1;33m=\u001b[0m \u001b[0m_w\u001b[0m\u001b[1;33m(\u001b[0m\u001b[0ms\u001b[0m\u001b[1;33m,\u001b[0m \u001b[0mend\u001b[0m\u001b[1;33m)\u001b[0m\u001b[1;33m.\u001b[0m\u001b[0mend\u001b[0m\u001b[1;33m(\u001b[0m\u001b[1;33m)\u001b[0m\u001b[1;33m\u001b[0m\u001b[1;33m\u001b[0m\u001b[0m\n\u001b[0;32m    339\u001b[0m         \u001b[1;32mif\u001b[0m \u001b[0mend\u001b[0m \u001b[1;33m!=\u001b[0m \u001b[0mlen\u001b[0m\u001b[1;33m(\u001b[0m\u001b[0ms\u001b[0m\u001b[1;33m)\u001b[0m\u001b[1;33m:\u001b[0m\u001b[1;33m\u001b[0m\u001b[1;33m\u001b[0m\u001b[0m\n",
      "\u001b[1;32m~\\Anaconda3\\lib\\json\\decoder.py\u001b[0m in \u001b[0;36mraw_decode\u001b[1;34m(self, s, idx)\u001b[0m\n\u001b[0;32m    353\u001b[0m             \u001b[0mobj\u001b[0m\u001b[1;33m,\u001b[0m \u001b[0mend\u001b[0m \u001b[1;33m=\u001b[0m \u001b[0mself\u001b[0m\u001b[1;33m.\u001b[0m\u001b[0mscan_once\u001b[0m\u001b[1;33m(\u001b[0m\u001b[0ms\u001b[0m\u001b[1;33m,\u001b[0m \u001b[0midx\u001b[0m\u001b[1;33m)\u001b[0m\u001b[1;33m\u001b[0m\u001b[1;33m\u001b[0m\u001b[0m\n\u001b[0;32m    354\u001b[0m         \u001b[1;32mexcept\u001b[0m \u001b[0mStopIteration\u001b[0m \u001b[1;32mas\u001b[0m \u001b[0merr\u001b[0m\u001b[1;33m:\u001b[0m\u001b[1;33m\u001b[0m\u001b[1;33m\u001b[0m\u001b[0m\n\u001b[1;32m--> 355\u001b[1;33m             \u001b[1;32mraise\u001b[0m \u001b[0mJSONDecodeError\u001b[0m\u001b[1;33m(\u001b[0m\u001b[1;34m\"Expecting value\"\u001b[0m\u001b[1;33m,\u001b[0m \u001b[0ms\u001b[0m\u001b[1;33m,\u001b[0m \u001b[0merr\u001b[0m\u001b[1;33m.\u001b[0m\u001b[0mvalue\u001b[0m\u001b[1;33m)\u001b[0m \u001b[1;32mfrom\u001b[0m \u001b[1;32mNone\u001b[0m\u001b[1;33m\u001b[0m\u001b[1;33m\u001b[0m\u001b[0m\n\u001b[0m\u001b[0;32m    356\u001b[0m         \u001b[1;32mreturn\u001b[0m \u001b[0mobj\u001b[0m\u001b[1;33m,\u001b[0m \u001b[0mend\u001b[0m\u001b[1;33m\u001b[0m\u001b[1;33m\u001b[0m\u001b[0m\n",
      "\u001b[1;31mJSONDecodeError\u001b[0m: Expecting value: line 1 column 1 (char 0)"
     ]
    }
   ],
   "source": [
    "person_dict = json.loads(file)"
   ]
  },
  {
   "cell_type": "code",
   "execution_count": 194,
   "metadata": {},
   "outputs": [
    {
     "ename": "TypeError",
     "evalue": "list indices must be integers or slices, not str",
     "output_type": "error",
     "traceback": [
      "\u001b[1;31m---------------------------------------------------------------------------\u001b[0m",
      "\u001b[1;31mTypeError\u001b[0m                                 Traceback (most recent call last)",
      "\u001b[1;32m<ipython-input-194-79ffc48d0312>\u001b[0m in \u001b[0;36m<module>\u001b[1;34m\u001b[0m\n\u001b[1;32m----> 1\u001b[1;33m \u001b[0ml\u001b[0m\u001b[1;33m[\u001b[0m\u001b[1;34m'populationtotals_totpop_cy'\u001b[0m\u001b[1;33m]\u001b[0m\u001b[1;33m\u001b[0m\u001b[1;33m\u001b[0m\u001b[0m\n\u001b[0m",
      "\u001b[1;31mTypeError\u001b[0m: list indices must be integers or slices, not str"
     ]
    }
   ],
   "source": [
    "l['populationtotals_totpop_cy']"
   ]
  },
  {
   "cell_type": "code",
   "execution_count": 333,
   "metadata": {},
   "outputs": [],
   "source": [
    "from geojson import Point, Feature, FeatureCollection, dump\n",
    "\n",
    "point = Point((-115.81, 37.24))\n",
    "\n",
    "features = []\n",
    "features.append()\n",
    "\n",
    "# add more features...\n",
    "# features.append(...)\n",
    "\n",
    "feature_collection = FeatureCollection(features)\n",
    "\n",
    "with open('myfile.geojson', 'w') as f:\n",
    "   dump(feature_collection, f)"
   ]
  },
  {
   "cell_type": "code",
   "execution_count": 356,
   "metadata": {},
   "outputs": [
    {
     "ename": "AttributeError",
     "evalue": "'list' object has no attribute 'loads'",
     "output_type": "error",
     "traceback": [
      "\u001b[1;31m---------------------------------------------------------------------------\u001b[0m",
      "\u001b[1;31mAttributeError\u001b[0m                            Traceback (most recent call last)",
      "\u001b[1;32m<ipython-input-356-53e15f3c6e8b>\u001b[0m in \u001b[0;36m<module>\u001b[1;34m\u001b[0m\n\u001b[1;32m----> 1\u001b[1;33m \u001b[0mgeojson\u001b[0m\u001b[1;33m.\u001b[0m\u001b[0mloads\u001b[0m\u001b[1;33m(\u001b[0m\u001b[0mfile\u001b[0m\u001b[1;33m)\u001b[0m\u001b[1;33m\u001b[0m\u001b[1;33m\u001b[0m\u001b[0m\n\u001b[0m",
      "\u001b[1;31mAttributeError\u001b[0m: 'list' object has no attribute 'loads'"
     ]
    }
   ],
   "source": [
    "geojson.loads(file)"
   ]
  },
  {
   "cell_type": "code",
   "execution_count": 6,
   "metadata": {},
   "outputs": [
    {
     "ename": "AttributeError",
     "evalue": "'list' object has no attribute 'keys'",
     "output_type": "error",
     "traceback": [
      "\u001b[1;31m---------------------------------------------------------------------------\u001b[0m",
      "\u001b[1;31mAttributeError\u001b[0m                            Traceback (most recent call last)",
      "\u001b[1;32m<ipython-input-6-462854a81f08>\u001b[0m in \u001b[0;36m<module>\u001b[1;34m\u001b[0m\n\u001b[1;32m----> 1\u001b[1;33m \u001b[1;32mfor\u001b[0m \u001b[0mi\u001b[0m \u001b[1;32min\u001b[0m \u001b[0mlist\u001b[0m\u001b[1;33m(\u001b[0m\u001b[0ml\u001b[0m\u001b[1;33m.\u001b[0m\u001b[0mkeys\u001b[0m\u001b[1;33m(\u001b[0m\u001b[1;33m)\u001b[0m\u001b[1;33m)\u001b[0m\u001b[1;33m:\u001b[0m\u001b[1;33m\u001b[0m\u001b[1;33m\u001b[0m\u001b[0m\n\u001b[0m\u001b[0;32m      2\u001b[0m     \u001b[0mprint\u001b[0m\u001b[1;33m(\u001b[0m\u001b[0mi\u001b[0m\u001b[1;33m)\u001b[0m\u001b[1;33m\u001b[0m\u001b[1;33m\u001b[0m\u001b[0m\n",
      "\u001b[1;31mAttributeError\u001b[0m: 'list' object has no attribute 'keys'"
     ]
    }
   ],
   "source": [
    "for i in list(l.keys()):\n",
    "    print(i)"
   ]
  },
  {
   "cell_type": "code",
   "execution_count": 14,
   "metadata": {},
   "outputs": [],
   "source": [
    "l2 = [] \n",
    "for i in l:\n",
    "    l2.append(i['layerGroupName'])"
   ]
  },
  {
   "cell_type": "code",
   "execution_count": 12,
   "metadata": {},
   "outputs": [],
   "source": [
    "import numpy as np "
   ]
  },
  {
   "cell_type": "code",
   "execution_count": 15,
   "metadata": {},
   "outputs": [
    {
     "data": {
      "text/plain": [
       "array(['Age', 'Education', 'Income', 'Jobs', 'Population'], dtype='<U10')"
      ]
     },
     "execution_count": 15,
     "metadata": {},
     "output_type": "execute_result"
    }
   ],
   "source": [
    "np.unique(l2)"
   ]
  },
  {
   "cell_type": "code",
   "execution_count": null,
   "metadata": {},
   "outputs": [],
   "source": []
  }
 ],
 "metadata": {
  "kernelspec": {
   "display_name": "Python 3",
   "language": "python",
   "name": "python3"
  },
  "language_info": {
   "codemirror_mode": {
    "name": "ipython",
    "version": 3
   },
   "file_extension": ".py",
   "mimetype": "text/x-python",
   "name": "python",
   "nbconvert_exporter": "python",
   "pygments_lexer": "ipython3",
   "version": "3.7.4"
  }
 },
 "nbformat": 4,
 "nbformat_minor": 2
}

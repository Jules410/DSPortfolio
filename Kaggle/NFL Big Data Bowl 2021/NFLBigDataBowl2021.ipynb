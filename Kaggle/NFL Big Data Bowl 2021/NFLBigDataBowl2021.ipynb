{
 "cells": [
  {
   "cell_type": "code",
   "execution_count": 1,
   "metadata": {},
   "outputs": [
    {
     "name": "stdout",
     "output_type": "stream",
     "text": [
      "Collecting kaggle\n",
      "  Downloading https://files.pythonhosted.org/packages/99/33/365c0d13f07a2a54744d027fe20b60dacdfdfb33bc04746db6ad0b79340b/kaggle-1.5.10.tar.gz (59kB)\n",
      "Requirement already satisfied: six>=1.10 in c:\\users\\jmada\\anaconda3\\lib\\site-packages (from kaggle) (1.11.0)\n",
      "Requirement already satisfied: certifi in c:\\users\\jmada\\anaconda3\\lib\\site-packages (from kaggle) (2018.4.16)\n",
      "Requirement already satisfied: python-dateutil in c:\\users\\jmada\\anaconda3\\lib\\site-packages (from kaggle) (2.7.3)\n",
      "Requirement already satisfied: requests in c:\\users\\jmada\\anaconda3\\lib\\site-packages (from kaggle) (2.18.4)\n",
      "Collecting tqdm (from kaggle)\n",
      "  Downloading https://files.pythonhosted.org/packages/8a/54/115f0c28a61d56674c3a5e05c46d6c3523ad196e1dcd3e2d8b119026df36/tqdm-4.54.1-py2.py3-none-any.whl (69kB)\n",
      "Collecting python-slugify (from kaggle)\n",
      "  Downloading https://files.pythonhosted.org/packages/9f/42/e336f96a8b6007428df772d0d159b8eee9b2f1811593a4931150660402c0/python-slugify-4.0.1.tar.gz\n",
      "Requirement already satisfied: urllib3 in c:\\users\\jmada\\anaconda3\\lib\\site-packages (from kaggle) (1.22)\n",
      "Requirement already satisfied: chardet<3.1.0,>=3.0.2 in c:\\users\\jmada\\anaconda3\\lib\\site-packages (from requests->kaggle) (3.0.4)\n",
      "Requirement already satisfied: idna<2.7,>=2.5 in c:\\users\\jmada\\anaconda3\\lib\\site-packages (from requests->kaggle) (2.6)\n",
      "Collecting text-unidecode>=1.3 (from python-slugify->kaggle)\n",
      "  Downloading https://files.pythonhosted.org/packages/a6/a5/c0b6468d3824fe3fde30dbb5e1f687b291608f9473681bbf7dabbf5a87d7/text_unidecode-1.3-py2.py3-none-any.whl (78kB)\n",
      "Building wheels for collected packages: kaggle, python-slugify\n",
      "  Running setup.py bdist_wheel for kaggle: started\n",
      "  Running setup.py bdist_wheel for kaggle: finished with status 'done'\n",
      "  Stored in directory: C:\\Users\\jmada\\AppData\\Local\\pip\\Cache\\wheels\\3a\\d1\\7e\\6ce09b72b770149802c653a02783821629146983ee5a360f10\n",
      "  Running setup.py bdist_wheel for python-slugify: started\n",
      "  Running setup.py bdist_wheel for python-slugify: finished with status 'done'\n",
      "  Stored in directory: C:\\Users\\jmada\\AppData\\Local\\pip\\Cache\\wheels\\67\\b8\\ba\\041548f30a6fc058c9b3f79a5b7b6aea925a15dd1e5c4992a4\n",
      "Successfully built kaggle python-slugify\n",
      "Installing collected packages: tqdm, text-unidecode, python-slugify, kaggle\n",
      "Successfully installed kaggle-1.5.10 python-slugify-4.0.1 text-unidecode-1.3 tqdm-4.54.1\n"
     ]
    },
    {
     "name": "stderr",
     "output_type": "stream",
     "text": [
      "You are using pip version 10.0.1, however version 20.3.1 is available.\n",
      "You should consider upgrading via the 'python -m pip install --upgrade pip' command.\n"
     ]
    }
   ],
   "source": [
    "!pip install kaggle"
   ]
  },
  {
   "cell_type": "code",
   "execution_count": null,
   "metadata": {},
   "outputs": [],
   "source": [
    "!kaggle competitions download -c nfl-big-data-bowl-2021"
   ]
  },
  {
   "cell_type": "code",
   "execution_count": 6,
   "metadata": {},
   "outputs": [
    {
     "name": "stderr",
     "output_type": "stream",
     "text": [
      "usage: kaggle [-h] [-v] {competitions,c,datasets,d,kernels,k,config} ...\n",
      "kaggle: error: unrecognized arguments: detection'\n"
     ]
    }
   ],
   "source": [
    "!kaggle datasets list -s 'fraud detection'"
   ]
  },
  {
   "cell_type": "code",
   "execution_count": null,
   "metadata": {},
   "outputs": [],
   "source": [
    "import pandas as pd"
   ]
  },
  {
   "cell_type": "code",
   "execution_count": null,
   "metadata": {},
   "outputs": [],
   "source": []
  }
 ],
 "metadata": {
  "kernelspec": {
   "display_name": "Python 3",
   "language": "python",
   "name": "python3"
  },
  "language_info": {
   "codemirror_mode": {
    "name": "ipython",
    "version": 3
   },
   "file_extension": ".py",
   "mimetype": "text/x-python",
   "name": "python",
   "nbconvert_exporter": "python",
   "pygments_lexer": "ipython3",
   "version": "3.6.5"
  }
 },
 "nbformat": 4,
 "nbformat_minor": 2
}
